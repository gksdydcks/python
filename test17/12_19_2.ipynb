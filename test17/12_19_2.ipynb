{
 "cells": [
  {
   "cell_type": "code",
   "execution_count": 25,
   "metadata": {},
   "outputs": [
    {
     "name": "stdout",
     "output_type": "stream",
     "text": [
      "                          위치명         위도          경도\n",
      "0               신용보증기금 마포지점 앞  37.545397  126.952564\n",
      "1                 마포SK허브 빌딩 앞  37.552001  126.956512\n",
      "2                   트라팰리스빌딩 앞  37.541448  126.947233\n",
      "3     주식회사 메칸더브이 앞(혜당한방병원 건너)  37.548428  126.916896\n",
      "4                 신의주 찹쌀순대점 앞  37.553712  126.935189\n",
      "5   아이스페이스 빌딩 앞(하나은행 신촌지점 좌측)  37.555143  126.935994\n",
      "6            동우빌딩 앞(키움참치 홍대점)  37.558086  126.927690\n",
      "7                 홍반장감자탕전문점 앞  37.560302  126.905950\n",
      "8       마포롯데캐슬 앞(공덕역 2번출구 방향)  37.544281  126.950622\n",
      "9                    서울가든호텔 앞  37.540719  126.948352\n",
      "10                 망원역 1번출구 앞  37.556207  126.910446\n"
     ]
    },
    {
     "ename": "KeyError",
     "evalue": "'key of type tuple not found and not a MultiIndex'",
     "output_type": "error",
     "traceback": [
      "\u001b[1;31m---------------------------------------------------------------------------\u001b[0m",
      "\u001b[1;31mKeyError\u001b[0m                                  Traceback (most recent call last)",
      "Cell \u001b[1;32mIn[25], line 10\u001b[0m\n\u001b[0;32m      7\u001b[0m m\u001b[38;5;241m=\u001b[39mfolium\u001b[38;5;241m.\u001b[39mMap(location\u001b[38;5;241m=\u001b[39m[\u001b[38;5;241m37.547631\u001b[39m,\u001b[38;5;241m126.942463\u001b[39m],zoom_start\u001b[38;5;241m=\u001b[39m\u001b[38;5;241m15\u001b[39m)\n\u001b[0;32m      8\u001b[0m \u001b[38;5;28;01mfor\u001b[39;00m index, row \u001b[38;5;129;01min\u001b[39;00m taxi\u001b[38;5;241m.\u001b[39miterrows():\n\u001b[0;32m      9\u001b[0m     folium\u001b[38;5;241m.\u001b[39mMarker(\n\u001b[1;32m---> 10\u001b[0m         [row[\u001b[38;5;124m\"\u001b[39m\u001b[38;5;124m위도\u001b[39m\u001b[38;5;124m\"\u001b[39m],[row[\u001b[38;5;124m\"\u001b[39m\u001b[38;5;124m경도\u001b[39m\u001b[38;5;124m\"\u001b[39m]]],popup \u001b[38;5;241m=\u001b[39m taxi[\u001b[38;5;124m\"\u001b[39m\u001b[38;5;124m위치명\u001b[39m\u001b[38;5;124m\"\u001b[39m][index,row],\n\u001b[0;32m     11\u001b[0m         icon \u001b[38;5;241m=\u001b[39m folium\u001b[38;5;241m.\u001b[39mIcon(icon\u001b[38;5;241m=\u001b[39m\u001b[38;5;124m'\u001b[39m\u001b[38;5;124mfa-solid fa-car\u001b[39m\u001b[38;5;124m'\u001b[39m,prefix\u001b[38;5;241m=\u001b[39m\u001b[38;5;124m'\u001b[39m\u001b[38;5;124mfa-solid\u001b[39m\u001b[38;5;124m'\u001b[39m))\u001b[38;5;241m.\u001b[39madd_to(m)\n\u001b[0;32m     12\u001b[0m m\n",
      "File \u001b[1;32mc:\\Users\\gksdydcks\\anaconda3\\Lib\\site-packages\\pandas\\core\\series.py:1153\u001b[0m, in \u001b[0;36mSeries.__getitem__\u001b[1;34m(self, key)\u001b[0m\n\u001b[0;32m   1150\u001b[0m     key \u001b[38;5;241m=\u001b[39m np\u001b[38;5;241m.\u001b[39masarray(key, dtype\u001b[38;5;241m=\u001b[39m\u001b[38;5;28mbool\u001b[39m)\n\u001b[0;32m   1151\u001b[0m     \u001b[38;5;28;01mreturn\u001b[39;00m \u001b[38;5;28mself\u001b[39m\u001b[38;5;241m.\u001b[39m_get_rows_with_mask(key)\n\u001b[1;32m-> 1153\u001b[0m \u001b[38;5;28;01mreturn\u001b[39;00m \u001b[38;5;28mself\u001b[39m\u001b[38;5;241m.\u001b[39m_get_with(key)\n",
      "File \u001b[1;32mc:\\Users\\gksdydcks\\anaconda3\\Lib\\site-packages\\pandas\\core\\series.py:1163\u001b[0m, in \u001b[0;36mSeries._get_with\u001b[1;34m(self, key)\u001b[0m\n\u001b[0;32m   1158\u001b[0m     \u001b[38;5;28;01mraise\u001b[39;00m \u001b[38;5;167;01mTypeError\u001b[39;00m(\n\u001b[0;32m   1159\u001b[0m         \u001b[38;5;124m\"\u001b[39m\u001b[38;5;124mIndexing a Series with DataFrame is not \u001b[39m\u001b[38;5;124m\"\u001b[39m\n\u001b[0;32m   1160\u001b[0m         \u001b[38;5;124m\"\u001b[39m\u001b[38;5;124msupported, use the appropriate DataFrame column\u001b[39m\u001b[38;5;124m\"\u001b[39m\n\u001b[0;32m   1161\u001b[0m     )\n\u001b[0;32m   1162\u001b[0m \u001b[38;5;28;01melif\u001b[39;00m \u001b[38;5;28misinstance\u001b[39m(key, \u001b[38;5;28mtuple\u001b[39m):\n\u001b[1;32m-> 1163\u001b[0m     \u001b[38;5;28;01mreturn\u001b[39;00m \u001b[38;5;28mself\u001b[39m\u001b[38;5;241m.\u001b[39m_get_values_tuple(key)\n\u001b[0;32m   1165\u001b[0m \u001b[38;5;28;01melif\u001b[39;00m \u001b[38;5;129;01mnot\u001b[39;00m is_list_like(key):\n\u001b[0;32m   1166\u001b[0m     \u001b[38;5;66;03m# e.g. scalars that aren't recognized by lib.is_scalar, GH#32684\u001b[39;00m\n\u001b[0;32m   1167\u001b[0m     \u001b[38;5;28;01mreturn\u001b[39;00m \u001b[38;5;28mself\u001b[39m\u001b[38;5;241m.\u001b[39mloc[key]\n",
      "File \u001b[1;32mc:\\Users\\gksdydcks\\anaconda3\\Lib\\site-packages\\pandas\\core\\series.py:1207\u001b[0m, in \u001b[0;36mSeries._get_values_tuple\u001b[1;34m(self, key)\u001b[0m\n\u001b[0;32m   1204\u001b[0m     \u001b[38;5;28;01mreturn\u001b[39;00m result\n\u001b[0;32m   1206\u001b[0m \u001b[38;5;28;01mif\u001b[39;00m \u001b[38;5;129;01mnot\u001b[39;00m \u001b[38;5;28misinstance\u001b[39m(\u001b[38;5;28mself\u001b[39m\u001b[38;5;241m.\u001b[39mindex, MultiIndex):\n\u001b[1;32m-> 1207\u001b[0m     \u001b[38;5;28;01mraise\u001b[39;00m \u001b[38;5;167;01mKeyError\u001b[39;00m(\u001b[38;5;124m\"\u001b[39m\u001b[38;5;124mkey of type tuple not found and not a MultiIndex\u001b[39m\u001b[38;5;124m\"\u001b[39m)\n\u001b[0;32m   1209\u001b[0m \u001b[38;5;66;03m# If key is contained, would have returned by now\u001b[39;00m\n\u001b[0;32m   1210\u001b[0m indexer, new_index \u001b[38;5;241m=\u001b[39m \u001b[38;5;28mself\u001b[39m\u001b[38;5;241m.\u001b[39mindex\u001b[38;5;241m.\u001b[39mget_loc_level(key)\n",
      "\u001b[1;31mKeyError\u001b[0m: 'key of type tuple not found and not a MultiIndex'"
     ]
    }
   ],
   "source": [
    "                ##실습1\n",
    "import folium\n",
    "import pandas as pd\n",
    "data = pd.read_csv('택시승차대 현황.csv', encoding='cp949')\n",
    "taxi = data.loc[:, [\"위치명\", \"위도\", \"경도\"]]\n",
    "print(taxi)\n",
    "m=folium.Map(location=[37.547631,126.942463],zoom_start=15)\n",
    "for index, row in taxi.iterrows():\n",
    "    folium.Marker(\n",
    "        [row[\"위도\"],[row[\"경도\"]]],popup = taxi[\"위치명\"][index,row],\n",
    "        icon = folium.Icon(icon='fa-solid fa-car',prefix='fa-solid')).add_to(m)\n",
    "m\n",
    "\n",
    "\n",
    "\n"
   ]
  }
 ],
 "metadata": {
  "kernelspec": {
   "display_name": "base",
   "language": "python",
   "name": "python3"
  },
  "language_info": {
   "codemirror_mode": {
    "name": "ipython",
    "version": 3
   },
   "file_extension": ".py",
   "mimetype": "text/x-python",
   "name": "python",
   "nbconvert_exporter": "python",
   "pygments_lexer": "ipython3",
   "version": "3.12.7"
  }
 },
 "nbformat": 4,
 "nbformat_minor": 2
}
