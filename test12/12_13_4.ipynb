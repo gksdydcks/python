{
 "cells": [
  {
   "cell_type": "code",
   "execution_count": null,
   "metadata": {},
   "outputs": [],
   "source": [
    "import random\n",
    "import time\n",
    "import sys\n",
    "\n",
    "try:                                    \n",
    "    with open(\"word.txt\", 'r') as f:    \n",
    "        word = f.read().split()        \n",
    "\n",
    "except:                                 \n",
    "    print(\"파일을 찾을 수 없습니다.\")    \n",
    "    sys.exit(0)                         \n",
    "\n",
    "n = 1\n",
    "input(\"[타자 게임] 준비되면 엔터!\")\n",
    "start = time.time()\n",
    "\n",
    "while n <11:\n",
    "    print(\"문제\", n)\n",
    "    question = random.choice(word)  \n",
    "    print(question)\n",
    "    user = input()\n",
    "    if question == user:\n",
    "        print(\"통과!!\")\n",
    "        n += 1\n",
    "    else:\n",
    "        print(\"오타! 다시도전!\")\n",
    "\n",
    "end = time.time()\n",
    "et = end -start\n",
    "print(f\"게임 소요시간 : {et: .2f}초\") "
   ]
  }
 ],
 "metadata": {
  "language_info": {
   "name": "python"
  }
 },
 "nbformat": 4,
 "nbformat_minor": 2
}
