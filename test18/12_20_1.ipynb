{
 "cells": [
  {
   "cell_type": "code",
   "execution_count": null,
   "metadata": {},
   "outputs": [],
   "source": [
    "                ###데이터 크롤링\n",
    "##ul(unorderd)= .,.,. //ol(onordered)=1,2,3  //li=list\n",
    "                ###실습1\n",
    "\n"
   ]
  },
  {
   "cell_type": "code",
   "execution_count": 6,
   "metadata": {},
   "outputs": [
    {
     "name": "stdout",
     "output_type": "stream",
     "text": [
      "<!DOCTYPE HTML>\n",
      "<html lang=\"ko\">\n",
      "<head>\n",
      "    <meta http-equiv=\"Content-Type\" content=\"text/html; charset=utf-8\"/>\n",
      "    <meta name=\"viewport\" content=\"width=device-width,initial-scale=1.0,maximum-scale=1.0,minimum-scale=1.0,user-scalable=no\">\n",
      "    <meta name=\"description\" lang=\"ko\" content=\"ì ì í ë¤ì íì¸í´ì£¼ì¸ì! : ë¤ì´ë² ì¼í\">\n",
      "    <title>ìë¬ íì´ì§ : ë¤ì´ë² ì¼í</title>\n",
      "    <link rel=\"stylesheet\" type=\"text/css\" href=\"https://shopv.pstatic.net/web/maintenance/limit/naver_error.css\">\n",
      "    <script src=\"https://shopv.pstatic.net/web/maintenance/limit/grafolio.js\"></script>\n",
      "</head>\n",
      "<body>\n",
      "<div id=\"u_skip\" class=\"u_skip\">\n",
      "    <a href=\"#content\">ë³¸ë¬¸ ë°ë¡ê°ê¸°</a>\n",
      "</div>\n",
      "<div class=\"wrap\">\n",
      "    <div class=\"header\" role=\"banner\">\n",
      "        <h1 class=\"logo\">\n",
      "            <a href=\"https://naver.com\" class=\"logo_link\">\n",
      "                <img src=\"https://shopv.pstatic.net/web/maintenance/limit/naver_logo.png\" width=\"90\" height=\"16\" alt=\"ë¤ì´ë²\">\n",
      "            </a>\n",
      "        </h1>\n",
      "        <div class=\"nav\" role=\"navigation\">\n",
      "            <a href=\"https://naver.com\" class=\"nav_link\">ë¤ì´ë²í</a>\n",
      "            <a href=\"https://help.pay.naver.com\" class=\"nav_link\">ì¼í&íì´ ê³ ê°ì¼í°</a>\n",
      "        </div>\n",
      "    </div>\n",
      "    <hr>\n",
      "    <div class=\"container\" role=\"main\">\n",
      "        <div class=\"content\" id=\"content\">\n",
      "            <div class=\"image_area _errorImage\"></div>\n",
      "\n",
      "            <div class=\"info_area\">\n",
      "                <div class=\"info_txt\">\n",
      "                    <strong class=\"tit\">ì ì í ë¤ì íì¸í´ì£¼ì¸ì!</strong>\n",
      "                    <p class=\"txt\">\n",
      "                        ì§ê¸ ì´ ìë¹ì¤ì ì°ê²°í  ì ììµëë¤.<br>\n",
      "                        ë¬¸ì ë¥¼ í´ê²°íê¸° ìí´ ì´ì¬í ë¸ë ¥íê³  ììµëë¤.<br>\n",
      "                        ì ì í ë¤ì íì¸í´ì£¼ì¸ì.\n",
      "                    </p>\n",
      "                </div>\n",
      "                <div class=\"info_link\">\n",
      "                    <a href=\"javascript:history.go(-1)\" class=\"link_prev\">ì´ì  íì´ì§</a><a href=\"https://shopping.naver.com\" class=\"link_home\">ë¤ì´ë² ì¼í í</a>\n",
      "                </div>\n",
      "            </div>\n",
      "        </div>\n",
      "    </div>\n",
      "    <hr>\n",
      "    <div class=\"footer\" role=\"contentinfo\">\n",
      "        <address>\n",
      "            <span>Copyright</span> Â©<a href=\"http://www.navercorp.com\" class=\"link_naver\" target=\"_blank\">NAVER Corp.</a> <span>All Rights Reserved.</span>\n",
      "        </address>\n",
      "    </div>\n",
      "</div>\n",
      "</body>\n",
      "</html>\n"
     ]
    }
   ],
   "source": [
    "import requests\n",
    "response = requests.get(\"https://shopping.naver.com/ns/home\")\n",
    "html = response.text\n",
    "print(html)"
   ]
  },
  {
   "cell_type": "code",
   "execution_count": null,
   "metadata": {},
   "outputs": [],
   "source": [
    "            ###CSS 선택자\n",
    "# %pip install bs4\n",
    "# from bs4 import BeautifulSoup\n",
    "# soup = BeautifulSoup(html, 'html.parser')"
   ]
  },
  {
   "cell_type": "code",
   "execution_count": 9,
   "metadata": {},
   "outputs": [],
   "source": [
    "from bs4 import BeautifulSoup\n",
    "                ##'''~~'''=여러줄 한번에 str지정 하기 위해\n",
    "html_str = '''      \n",
    "<html>\n",
    "    <body>\n",
    "        <div id=\"content\">\n",
    "            <ul class = 'industry'>\n",
    "                <li>인공지능</li>\n",
    "                <li>빅데이터</li>\n",
    "                <li>스마트팩토리</li>\n",
    "            </ul>\n",
    "            <ul class = 'comlang'>\n",
    "                <li>Python</li>\n",
    "                <li>C++</li>\n",
    "                <li>Javascript</li>\n",
    "            </ul>\n",
    "        </div>\n",
    "    </body>\n",
    "</html>\n",
    "'''\n",
    "soup = BeautifulSoup(html_str, 'html.parser')"
   ]
  },
  {
   "cell_type": "code",
   "execution_count": 12,
   "metadata": {},
   "outputs": [
    {
     "name": "stdout",
     "output_type": "stream",
     "text": [
      "<ul class=\"industry\">\n",
      "<li>인공지능</li>\n",
      "<li>빅데이터</li>\n",
      "<li>스마트팩토리</li>\n",
      "</ul>\n",
      "\n",
      "인공지능\n",
      "빅데이터\n",
      "스마트팩토리\n",
      "\n",
      "\n",
      "인공지능\n",
      "빅데이터\n",
      "스마트팩토리\n",
      "\n"
     ]
    }
   ],
   "source": [
    "#처음 나오는 ul 태그로 찾기\n",
    "first_ul = soup.find('ul')\n",
    "print(first_ul)\n",
    "print(first_ul.text)    #태그 없이 출력력  \n",
    "print(first_ul.get_text())  #태그 없이 출력력"
   ]
  },
  {
   "cell_type": "code",
   "execution_count": 17,
   "metadata": {},
   "outputs": [
    {
     "name": "stdout",
     "output_type": "stream",
     "text": [
      "[<li>인공지능</li>, <li>빅데이터</li>, <li>스마트팩토리</li>]\n",
      "<li>인공지능</li>\n",
      "인공지능\n",
      "인공지능\n",
      "빅데이터\n",
      "스마트팩토리\n"
     ]
    }
   ],
   "source": [
    "                ##모든 요소른 li 태그로 찾기\n",
    "all_list = first_ul.findAll('li')\n",
    "print(all_list)\n",
    "print(all_list[0])  #리스트로 출력되서 []사용\n",
    "print(all_list[0].text)\n",
    "\n",
    "for li in all_list:\n",
    "    print(li.text)"
   ]
  },
  {
   "cell_type": "code",
   "execution_count": 18,
   "metadata": {},
   "outputs": [
    {
     "name": "stdout",
     "output_type": "stream",
     "text": [
      "<ul class=\"comlang\">\n",
      "<li>Python</li>\n",
      "<li>C++</li>\n",
      "<li>Javascript</li>\n",
      "</ul>\n",
      "\n",
      "Python\n",
      "C++\n",
      "Javascript\n",
      "\n"
     ]
    }
   ],
   "source": [
    "            ##class 선택자로 찾기\n",
    "find_ul= soup.find(class_ = 'comlang')\n",
    "print(find_ul)\n",
    "print(find_ul.text)"
   ]
  },
  {
   "cell_type": "code",
   "execution_count": 19,
   "metadata": {},
   "outputs": [
    {
     "name": "stdout",
     "output_type": "stream",
     "text": [
      "<ul class=\"industry\">\n",
      "<li>인공지능</li>\n",
      "<li>빅데이터</li>\n",
      "<li>스마트팩토리</li>\n",
      "</ul>\n",
      "\n",
      "인공지능\n",
      "빅데이터\n",
      "스마트팩토리\n",
      "\n"
     ]
    }
   ],
   "source": [
    "            ##select 사용\n",
    "f_ul = soup.select_one('ul.industry')\n",
    "print(f_ul)\n",
    "print(f_ul.text) "
   ]
  },
  {
   "cell_type": "code",
   "execution_count": 23,
   "metadata": {},
   "outputs": [
    {
     "name": "stdout",
     "output_type": "stream",
     "text": [
      "[<li>인공지능</li>, <li>빅데이터</li>, <li>스마트팩토리</li>]\n",
      "<li>인공지능</li>\n",
      "인공지능\n"
     ]
    }
   ],
   "source": [
    "all_li = f_ul.select('li')\n",
    "print(all_li)\n",
    "print(all_li[0])\n",
    "print(all_li[0].text)"
   ]
  },
  {
   "cell_type": "code",
   "execution_count": 22,
   "metadata": {},
   "outputs": [
    {
     "name": "stdout",
     "output_type": "stream",
     "text": [
      "[<li>인공지능</li>, <li>빅데이터</li>, <li>스마트팩토리</li>]\n",
      "<li>인공지능</li>\n",
      "인공지능\n"
     ]
    }
   ],
   "source": [
    "all_li = soup.select('ul.industry > li')    #'>' =바로 밑에있다는 표시\n",
    "print(all_li)\n",
    "print(all_li[0])\n",
    "print(all_li[0].text)"
   ]
  },
  {
   "cell_type": "code",
   "execution_count": null,
   "metadata": {},
   "outputs": [],
   "source": [
    "idid = soup.select(\n",
    "\n",
    ")"
   ]
  }
 ],
 "metadata": {
  "kernelspec": {
   "display_name": "base",
   "language": "python",
   "name": "python3"
  },
  "language_info": {
   "codemirror_mode": {
    "name": "ipython",
    "version": 3
   },
   "file_extension": ".py",
   "mimetype": "text/x-python",
   "name": "python",
   "nbconvert_exporter": "python",
   "pygments_lexer": "ipython3",
   "version": "3.12.7"
  }
 },
 "nbformat": 4,
 "nbformat_minor": 2
}
