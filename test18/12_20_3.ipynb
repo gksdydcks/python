{
 "cells": [
  {
   "cell_type": "code",
   "execution_count": null,
   "metadata": {},
   "outputs": [],
   "source": [
    "        #엑셀파일 저장하기\n",
    "# %pip install openpyxl\n",
    "import openpyxl\n",
    "wb = openpyxl.Workbook()\n",
    "ws = wb.create_sheet(\"codingon\")\n",
    "\n",
    "ws['A1'] = '이름'\n",
    "ws['B1'] = ' 영어이름'\n",
    "ws['A2'] = '홍길동'\n",
    "ws[\"B2\"] = 'hong'\n",
    "\n",
    "wb.save('test.xlsx')"
   ]
  },
  {
   "cell_type": "code",
   "execution_count": 11,
   "metadata": {},
   "outputs": [],
   "source": [
    "       ###엑셀파일 불러오기\n",
    "wb= openpyxl.load_workbook('test.xlsx')\n",
    "\n",
    "ws= wb['codingon']  #시트선택\n",
    "ws['A3']= '111'     #파일수정\n",
    "ws['B3']= '222'\n",
    "\n",
    "wb.save('test.xlsx')"
   ]
  },
  {
   "cell_type": "code",
   "execution_count": 14,
   "metadata": {},
   "outputs": [],
   "source": [
    "            ##\n",
    "from openpyxl import Workbook\n",
    "wb = openpyxl.Workbook()\n",
    "\n",
    "ws = wb.active\n",
    "ws.title = 'Data'\n",
    "\n",
    "data = [['name', 'age'],[\"HongGilDong\", \"20\"], [\"LeeJaeHun\", \"21\"]]\n",
    "\n",
    "for row in data:\n",
    "    ws.append(row)\n",
    "\n",
    "wb.save('append_example.xlsx')\n"
   ]
  }
 ],
 "metadata": {
  "kernelspec": {
   "display_name": "base",
   "language": "python",
   "name": "python3"
  },
  "language_info": {
   "codemirror_mode": {
    "name": "ipython",
    "version": 3
   },
   "file_extension": ".py",
   "mimetype": "text/x-python",
   "name": "python",
   "nbconvert_exporter": "python",
   "pygments_lexer": "ipython3",
   "version": "3.12.7"
  }
 },
 "nbformat": 4,
 "nbformat_minor": 2
}
