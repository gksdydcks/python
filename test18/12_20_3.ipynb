{
 "cells": [
  {
   "cell_type": "code",
   "execution_count": null,
   "metadata": {},
   "outputs": [],
   "source": [
    "#         #엑셀파일 저장하기\n",
    "# # %pip install openpyxl\n",
    "# import openpyxl\n",
    "# wb = openpyxl.Workbook()\n",
    "# ws = wb.create_sheet(\"codingon\")\n",
    "\n",
    "# ws['A1'] = '이름'\n",
    "# ws['B1'] = ' 영어이름'\n",
    "# ws['A2'] = '홍길동'\n",
    "# ws[\"B2\"] = 'hong'\n",
    "\n",
    "# wb.save('test.xlsx')"
   ]
  },
  {
   "cell_type": "code",
   "execution_count": 11,
   "metadata": {},
   "outputs": [],
   "source": [
    "#        ###엑셀파일 불러오기\n",
    "# wb= openpyxl.load_workbook('test.xlsx')\n",
    "\n",
    "# ws= wb['codingon']  #시트선택\n",
    "# ws['A3']= '111'     #파일수정\n",
    "# ws['B3']= '222'\n",
    "\n",
    "# wb.save('test.xlsx')"
   ]
  },
  {
   "cell_type": "code",
   "execution_count": 15,
   "metadata": {},
   "outputs": [],
   "source": [
    "#             ##\n",
    "# from openpyxl import Workbook\n",
    "# wb = openpyxl.Workbook()    #워크북 생성\n",
    "\n",
    "# ws = wb.active      #sheet 생성\n",
    "# ws.title = 'Data'\n",
    "#     #데이터 추가\n",
    "# data = [['name', 'age'],\n",
    "#         [\"HongGilDong\", \"20\"],\n",
    "#         [\"LeeJaeHun\", \"21\"]\n",
    "# ]\n",
    "# for row in data:\n",
    "#     ws.append(row)\n",
    "#     #저장\n",
    "# wb.save('append_example.xlsx')\n"
   ]
  },
  {
   "cell_type": "code",
   "execution_count": null,
   "metadata": {},
   "outputs": [
    {
     "name": "stdout",
     "output_type": "stream",
     "text": [
      "USD 1,447.70\n",
      "JPY(100엔) 924.22\n",
      "EUR 1,505.25\n",
      "CNY 198.21\n",
      "[['USD', '1,447.70'], ['JPY(100엔)', '924.22'], ['EUR', '1,505.25'], ['CNY', '198.21']]\n"
     ]
    }
   ],
   "source": [
    "#     ##실습\n",
    "# import requests\n",
    "# from bs4 import BeautifulSoup\n",
    "# exchange=[]\n",
    "# response = requests.get('https://finance.naver.com/marketindex/')\n",
    "# html = response.text\n",
    "# soup = BeautifulSoup(html, 'html.parser')\n",
    "\n",
    "# lst = soup.select('.h_lst') \n",
    "# value = soup.select(\".value\")\n",
    "\n",
    "# for i in range(4):\n",
    "#         ex = []\n",
    "#         print(lst[i].text.split()[1],value[i].text)\n",
    "#         ex.append(lst[i].text.split()[1])\n",
    "#         ex.append(value[i].text)\n",
    "#         exchange.append(ex)\n",
    "# print(exchange)\n"
   ]
  },
  {
   "cell_type": "code",
   "execution_count": null,
   "metadata": {},
   "outputs": [
    {
     "name": "stdout",
     "output_type": "stream",
     "text": [
      "USD 1,446.50\n",
      "JPY(100엔) 922.98\n",
      "EUR 1,502.77\n",
      "CNY 198.09\n"
     ]
    }
   ],
   "source": [
    "    ##실습\n",
    "import requests\n",
    "from bs4 import BeautifulSoup\n",
    "\n",
    "response = requests.get('https://finance.naver.com/marketindex/')\n",
    "html = response.text\n",
    "soup = BeautifulSoup(html, 'html.parser')\n",
    "\n",
    "lst = soup.select('.h_lst') \n",
    "value = soup.select(\".value\")\n",
    "\n",
    "for i in range(4):  \n",
    "        print(lst[i].text.split()[-1],value[i].text)\n"
   ]
  },
  {
   "cell_type": "code",
   "execution_count": null,
   "metadata": {},
   "outputs": [],
   "source": [
    "# import openpyxl\n",
    "# from openpyxl import Workbook\n",
    "# wb = openpyxl.Workbook()\n",
    "# ws = wb.active\n",
    "# ws.title = 'Exchange'\n",
    "# exchange =exchange\n",
    "# exchange.insert(0,['통화','환율'])\n",
    "\n",
    "# for row in exchange:\n",
    "#     ws.append(row)\n",
    "# wb.save(\"환율.xlsx\")"
   ]
  },
  {
   "cell_type": "code",
   "execution_count": 73,
   "metadata": {},
   "outputs": [],
   "source": [
    "import openpyxl\n",
    "from openpyxl import Workbook\n",
    "wb = openpyxl.Workbook()\n",
    "ws = wb.active\n",
    "ws.title = 'Exchange'\n",
    "ws.append(['통화','환율'])\n",
    "\n",
    "for i in range(4):\n",
    "    ws.append([lst[i].text.split()[-1],value[i].text])\n",
    "wb.save(\"Exchage.xlsx\")"
   ]
  }
 ],
 "metadata": {
  "kernelspec": {
   "display_name": "base",
   "language": "python",
   "name": "python3"
  },
  "language_info": {
   "codemirror_mode": {
    "name": "ipython",
    "version": 3
   },
   "file_extension": ".py",
   "mimetype": "text/x-python",
   "name": "python",
   "nbconvert_exporter": "python",
   "pygments_lexer": "ipython3",
   "version": "3.12.7"
  }
 },
 "nbformat": 4,
 "nbformat_minor": 2
}
