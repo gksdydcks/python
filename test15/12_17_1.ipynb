{
 "cells": [
  {
   "cell_type": "code",
   "execution_count": 1,
   "metadata": {},
   "outputs": [
    {
     "data": {
      "text/plain": [
       "2018    143\n",
       "2019    150\n",
       "2020    157\n",
       "2021    160\n",
       "dtype: int64"
      ]
     },
     "execution_count": 1,
     "metadata": {},
     "output_type": "execute_result"
    }
   ],
   "source": [
    "import pandas as pd  \n",
    "growth = pd.Series([143,150,157,160], index = [\"2018\",\"2019\",\"2020\",\"2021\"])\n",
    "growth"
   ]
  },
  {
   "cell_type": "code",
   "execution_count": 5,
   "metadata": {},
   "outputs": [
    {
     "name": "stdout",
     "output_type": "stream",
     "text": [
      "[143 150 157 160]\n",
      "143\n",
      "Index(['2018', '2019', '2020', '2021'], dtype='object')\n",
      "2018\n"
     ]
    }
   ],
   "source": [
    "print(growth.values)\n",
    "print(growth.values[0]) #pd.Series에서 values의[]원하는 값 출력\n",
    "print(growth.index)\n",
    "print(growth.index[0])  #pd.Series에서 index의[]원하는 값 출력"
   ]
  }
 ],
 "metadata": {
  "kernelspec": {
   "display_name": "base",
   "language": "python",
   "name": "python3"
  },
  "language_info": {
   "codemirror_mode": {
    "name": "ipython",
    "version": 3
   },
   "file_extension": ".py",
   "mimetype": "text/x-python",
   "name": "python",
   "nbconvert_exporter": "python",
   "pygments_lexer": "ipython3",
   "version": "3.12.7"
  }
 },
 "nbformat": 4,
 "nbformat_minor": 2
}
