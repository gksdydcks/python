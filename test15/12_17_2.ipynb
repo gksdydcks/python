{
 "cells": [
  {
   "cell_type": "code",
   "execution_count": 31,
   "metadata": {},
   "outputs": [
    {
     "name": "stdout",
     "output_type": "stream",
     "text": [
      "    2018  2019  2020\n",
      "영희   143   150   157\n",
      "철수   165   172   177\n",
      "영철   170   177   180 \n",
      "\n",
      "2018    영철\n",
      "2019    영철\n",
      "2020    영철\n",
      "dtype: object\n"
     ]
    }
   ],
   "source": [
    "import pandas as pd\n",
    "index = [\"영희\",\"철수\",\"영철\"]\n",
    "data={\n",
    "    \"2018\" : [143,165,170],\n",
    "    \"2019\" : [150,172,177,],\n",
    "    \"2020\" : [157,177,180] \n",
    "}\n",
    "growth = pd.DataFrame(data,index=index)\n",
    "print(growth,\"\\n\")\n",
    "print(growth.idxmax())  ##!!idxmax(숫자,문자)= index 값 출력\n",
    "                        ##!!argmax()=숫자로 리턴/argsort,argmin\n",
    "#print(growth.argmin())\n",
    "\n"
   ]
  },
  {
   "cell_type": "code",
   "execution_count": null,
   "metadata": {},
   "outputs": [],
   "source": [
    "#pandas 3- 4번\n",
    "#centered_price = reviews.price - reviews.price.mean() #기준점 이동\n",
    "#ex)50=0 , 60= 10, 40=-10\n"
   ]
  },
  {
   "cell_type": "code",
   "execution_count": 33,
   "metadata": {},
   "outputs": [],
   "source": [
    "#3-6번 \n"
   ]
  },
  {
   "cell_type": "code",
   "execution_count": 43,
   "metadata": {},
   "outputs": [
    {
     "data": {
      "text/plain": [
       "2018    0\n",
       "2019    0\n",
       "2020    1\n",
       "dtype: int64"
      ]
     },
     "execution_count": 43,
     "metadata": {},
     "output_type": "execute_result"
    }
   ],
   "source": [
    "def check(col):\n",
    "    if col[\"영희\"] >160:\n",
    "        return 2\n",
    "    elif col[\"영희\"] >150:\n",
    "        return 1\n",
    "    else:\n",
    "        return 0\n",
    "growth.apply(check,axis= \"index\")   #apply = 특정열이나 행 돔"
   ]
  },
  {
   "cell_type": "code",
   "execution_count": null,
   "metadata": {},
   "outputs": [],
   "source": [
    "#grouping, sorting"
   ]
  },
  {
   "cell_type": "code",
   "execution_count": 42,
   "metadata": {},
   "outputs": [],
   "source": [
    "#reviews.groupby('winery').apply(lambda df: df.title.iloc[0])\n",
    "##와이너리 그룹핑 하고 타이틀의 첫번째 행 가져오기"
   ]
  },
  {
   "cell_type": "code",
   "execution_count": 44,
   "metadata": {},
   "outputs": [],
   "source": [
    "#reviews.groupby(['country', 'province']).apply(lambda df: df.loc[df.points.idxmax()])\n",
    "##컨트리, 프로방스 그룹핑후 포인트 가장 높은 행 출력"
   ]
  },
  {
   "cell_type": "code",
   "execution_count": null,
   "metadata": {},
   "outputs": [],
   "source": [
    "#reviews.groupby(['country']).price.agg([len, min, max])\n",
    "## .agg([]) = [함수,len,max]괄호 안 함수들 한번씩 돌림\n",
    "### 컨트리 그룹핑후 가격.통계.(크기,최소,최대)출력"
   ]
  },
  {
   "cell_type": "code",
   "execution_count": null,
   "metadata": {},
   "outputs": [],
   "source": [
    "#countries_reviewed = countries_reviewed.reset_index()\n",
    "#countries_reviewed.sort_values(by='len')\n",
    "###"
   ]
  },
  {
   "cell_type": "code",
   "execution_count": 45,
   "metadata": {},
   "outputs": [],
   "source": [
    "#countries_reviewed.sort_values(by='len', ascending=False)\n",
    "##내림차순"
   ]
  },
  {
   "cell_type": "code",
   "execution_count": 46,
   "metadata": {},
   "outputs": [],
   "source": [
    "#countries_reviewed.sort_index()\n",
    "#인덱스 기준 소트"
   ]
  },
  {
   "cell_type": "code",
   "execution_count": 47,
   "metadata": {},
   "outputs": [],
   "source": [
    "#countries_reviewed.sort_values(by=['country', 'len'])\n",
    "#1차 country 동일하면 2차로 len으로 sort\n"
   ]
  },
  {
   "cell_type": "code",
   "execution_count": null,
   "metadata": {},
   "outputs": [],
   "source": [
    "###pandas exercise"
   ]
  },
  {
   "cell_type": "code",
   "execution_count": null,
   "metadata": {},
   "outputs": [],
   "source": []
  }
 ],
 "metadata": {
  "kernelspec": {
   "display_name": "base",
   "language": "python",
   "name": "python3"
  },
  "language_info": {
   "codemirror_mode": {
    "name": "ipython",
    "version": 3
   },
   "file_extension": ".py",
   "mimetype": "text/x-python",
   "name": "python",
   "nbconvert_exporter": "python",
   "pygments_lexer": "ipython3",
   "version": "3.12.7"
  }
 },
 "nbformat": 4,
 "nbformat_minor": 2
}
