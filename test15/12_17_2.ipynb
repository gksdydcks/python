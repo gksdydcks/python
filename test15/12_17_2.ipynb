{
 "cells": [
  {
   "cell_type": "code",
   "execution_count": 31,
   "metadata": {},
   "outputs": [
    {
     "name": "stdout",
     "output_type": "stream",
     "text": [
      "    2018  2019  2020\n",
      "영희   143   150   157\n",
      "철수   165   172   177\n",
      "영철   170   177   180 \n",
      "\n",
      "2018    영철\n",
      "2019    영철\n",
      "2020    영철\n",
      "dtype: object\n"
     ]
    }
   ],
   "source": [
    "import pandas as pd\n",
    "index = [\"영희\",\"철수\",\"영철\"]\n",
    "data={\n",
    "    \"2018\" : [143,165,170],\n",
    "    \"2019\" : [150,172,177,],\n",
    "    \"2020\" : [157,177,180] \n",
    "}\n",
    "growth = pd.DataFrame(data,index=index)\n",
    "print(growth,\"\\n\")\n",
    "print(growth.idxmax())  #idxmax(숫자,문자)= index중 최대 값 출력\n",
    "#print(growth.argmin())\n",
    "\n"
   ]
  },
  {
   "cell_type": "code",
   "execution_count": null,
   "metadata": {},
   "outputs": [],
   "source": [
    "#pandas 3- 4번\n",
    "#centered_price = reviews.price - reviews.price.mean() #기준점 이동\n",
    "#ex)50=0 , 60= 10, 40=-10\n"
   ]
  },
  {
   "cell_type": "code",
   "execution_count": 33,
   "metadata": {},
   "outputs": [],
   "source": [
    "#3-6번 \n"
   ]
  },
  {
   "cell_type": "code",
   "execution_count": 37,
   "metadata": {},
   "outputs": [
    {
     "data": {
      "text/plain": [
       "2018    0\n",
       "2019    0\n",
       "2020    1\n",
       "dtype: int64"
      ]
     },
     "execution_count": 37,
     "metadata": {},
     "output_type": "execute_result"
    }
   ],
   "source": [
    "def check(col):\n",
    "    if col[\"영희\"] >160:\n",
    "        return 2\n",
    "    elif col[\"영희\"] >150:\n",
    "        return 1\n",
    "    else:\n",
    "        return 0\n",
    "growth.apply(check,axis= \"index\")   #apply = 특정열이나 행 돔"
   ]
  }
 ],
 "metadata": {
  "kernelspec": {
   "display_name": "base",
   "language": "python",
   "name": "python3"
  },
  "language_info": {
   "codemirror_mode": {
    "name": "ipython",
    "version": 3
   },
   "file_extension": ".py",
   "mimetype": "text/x-python",
   "name": "python",
   "nbconvert_exporter": "python",
   "pygments_lexer": "ipython3",
   "version": "3.12.7"
  }
 },
 "nbformat": 4,
 "nbformat_minor": 2
}
