{
 "cells": [
  {
   "cell_type": "code",
   "execution_count": 7,
   "metadata": {},
   "outputs": [
    {
     "name": "stdout",
     "output_type": "stream",
     "text": [
      "[[[1 2]\n",
      "  [3 4]]]\n",
      "(1, 2, 2)\n",
      "\n",
      "[[[1 2]]\n",
      "\n",
      " [[3 4]]]\n",
      "(2, 1, 2)\n",
      "\n",
      "[[[1]\n",
      "  [2]]\n",
      "\n",
      " [[3]\n",
      "  [4]]]\n",
      "(2, 2, 1)\n",
      "\n"
     ]
    }
   ],
   "source": [
    "            ###차원확장\n",
    "import numpy as np\n",
    "\n",
    "a = np.array([[1,2],[3,4]])\n",
    "\n",
    "expanded = np.expand_dims(a,0)\n",
    "print(expanded)\n",
    "print(f\"{expanded.shape}\\n\")\n",
    "expanded = np.expand_dims(a,1)\n",
    "print(expanded)\n",
    "print(f\"{expanded.shape}\\n\")\n",
    "expanded = np.expand_dims(a,2)\n",
    "print(expanded)\n",
    "print(f\"{expanded.shape}\\n\")"
   ]
  },
  {
   "cell_type": "code",
   "execution_count": 10,
   "metadata": {},
   "outputs": [
    {
     "name": "stdout",
     "output_type": "stream",
     "text": [
      "[[[[1. 1. 1.]]\n",
      "\n",
      "  [[1. 1. 1.]]]]\n"
     ]
    }
   ],
   "source": [
    "import numpy as np\n",
    "np_ones = np.ones((1,2,1,3))\n",
    "print(np_ones)\n",
    "\n"
   ]
  },
  {
   "cell_type": "code",
   "execution_count": 41,
   "metadata": {},
   "outputs": [
    {
     "name": "stdout",
     "output_type": "stream",
     "text": [
      "[1 2 3 4] [1 2 3 2] [0 1 3 6]\n"
     ]
    }
   ],
   "source": [
    "a= [1,2,2,3,3,3,4,4]\n",
    "u_a, indexes, counts  = np.unique(a,return_index=True,return_counts=True) #.unique에 정의된 순서로 출력\n",
    "print(u_a, counts, indexes)"
   ]
  },
  {
   "cell_type": "code",
   "execution_count": 40,
   "metadata": {},
   "outputs": [
    {
     "name": "stdout",
     "output_type": "stream",
     "text": [
      "[1 2 3 4] [1 2 3 2] [0 1 3 6]\n"
     ]
    }
   ],
   "source": [
    "a= [1,2,2,3,3,3,4,4]\n",
    "u_a,  counts, indexes  = np.unique(a,return_counts=True,return_index=True)\n",
    "print(u_a, indexes, counts)\n",
    "\n",
    "\n"
   ]
  },
  {
   "cell_type": "code",
   "execution_count": 43,
   "metadata": {},
   "outputs": [
    {
     "name": "stdout",
     "output_type": "stream",
     "text": [
      "3 5 2\n"
     ]
    }
   ],
   "source": [
    "def add(a=1, b=1):\n",
    "    return a,b, a+b     #정의된 순서되로 출력!!!!!!\n",
    "\n",
    "sum, a, b= add(2,3)\n",
    "print(a,b,sum)"
   ]
  },
  {
   "cell_type": "code",
   "execution_count": null,
   "metadata": {},
   "outputs": [],
   "source": []
  },
  {
   "cell_type": "code",
   "execution_count": 49,
   "metadata": {},
   "outputs": [
    {
     "name": "stdout",
     "output_type": "stream",
     "text": [
      "a [1 4 2 3]\n",
      "b [1 2 3 4]\n",
      "c [0 2 3 1]\n",
      "c [1 2 3 4]\n",
      "a [1 4 2 3]\n"
     ]
    }
   ],
   "source": [
    "a = np.array([1,4,2,3])\n",
    "b=np.sort(a)        #b=a[np.argsort(a)]\n",
    "print(f\"a {a}\")     #print(f\"a_1 {a_1}\")\n",
    "print(f\"b {b}\")\n",
    "c= np.argsort(a)\n",
    "print(f\"c {c}\")\n",
    "print(f\"c {a[c]}\")\n",
    "a[c.sort()]     #argsort 하면 원본으로 롤백 가능\n",
    "print(f\"a {a}\")"
   ]
  }
 ],
 "metadata": {
  "kernelspec": {
   "display_name": "base",
   "language": "python",
   "name": "python3"
  },
  "language_info": {
   "codemirror_mode": {
    "name": "ipython",
    "version": 3
   },
   "file_extension": ".py",
   "mimetype": "text/x-python",
   "name": "python",
   "nbconvert_exporter": "python",
   "pygments_lexer": "ipython3",
   "version": "3.12.7"
  }
 },
 "nbformat": 4,
 "nbformat_minor": 2
}
