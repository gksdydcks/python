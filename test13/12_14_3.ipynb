{
 "cells": [
  {
   "cell_type": "code",
   "execution_count": 2,
   "metadata": {},
   "outputs": [
    {
     "name": "stdout",
     "output_type": "stream",
     "text": [
      "[[  0   1   2   3   4]\n",
      " [-99   6 -99   8 -99]\n",
      " [-99  11 -99  13 -99]]\n"
     ]
    }
   ],
   "source": [
    "import numpy as np\n",
    "x = np.arange(15, dtype=np.int64).reshape(3, 5)\n",
    "x[1:, ::2] = -99\n",
    "print(x)"
   ]
  },
  {
   "cell_type": "code",
   "execution_count": 5,
   "metadata": {},
   "outputs": [
    {
     "name": "stdout",
     "output_type": "stream",
     "text": [
      "[[-99   1 -99   3 -99]\n",
      " [-99   6 -99   8 -99]\n",
      " [  0  11   2  13   4]]\n"
     ]
    }
   ],
   "source": [
    "a= np.sort(x, axis=0)\n",
    "print(a)\n"
   ]
  },
  {
   "cell_type": "code",
   "execution_count": 8,
   "metadata": {},
   "outputs": [
    {
     "name": "stdout",
     "output_type": "stream",
     "text": [
      "[[  0   1   2   3   4]\n",
      " [-99 -99 -99   6   8]\n",
      " [-99 -99 -99  11  13]]\n"
     ]
    }
   ],
   "source": [
    "a= np.sort(x, axis=1)\n",
    "print(a)"
   ]
  },
  {
   "cell_type": "code",
   "execution_count": null,
   "metadata": {},
   "outputs": [],
   "source": []
  },
  {
   "cell_type": "code",
   "execution_count": 74,
   "metadata": {},
   "outputs": [
    {
     "name": "stdout",
     "output_type": "stream",
     "text": [
      "x[[  0   1   2   3   4]\n",
      " [-99   6 -99   8 -99]\n",
      " [-99  11 -99  13 -99]]\n",
      "#1\n",
      "최대0\n",
      "최소-99\n",
      "평균-66.0\n",
      "#2 : -283\n",
      "#3\n",
      "[100  24  11  10   9   8   7   5   5   5   5   4   3   2   1   1]\n"
     ]
    }
   ],
   "source": [
    "x=np.arange(15, dtype=np.int64).reshape(3,5)\n",
    "x[1:, ::2] = -99\n",
    "print(f\"x{x}\")\n",
    "\n",
    "print(f\"#1\\n최대{np.max(x[:,0])}\\n최소{np.min(x[:,0])}\\n평균{np.mean(x[:,0])}\")\n",
    "print(f\"#2 : {np.sum(x[1,:])}\")\n",
    "a=np.array([1,1,2,3,4,5,5,5,5,7,8,9,10,11,24,100])\n",
    "b3=np.argsort(a)\n",
    "print(f\"#3\\n{a[b3[::-1]]}\")"
   ]
  },
  {
   "cell_type": "code",
   "execution_count": 59,
   "metadata": {},
   "outputs": [
    {
     "name": "stdout",
     "output_type": "stream",
     "text": [
      "x[[  0   1   2   3   4]\n",
      " [-99   6 -99   8 -99]\n",
      " [-99  11 -99  13 -99]]\n",
      "#1\n",
      "최대0\n",
      "최소-99\n",
      "평균-66.0\n",
      "[-99   6 -99   8 -99]\n",
      "#2 : -283\n"
     ]
    }
   ],
   "source": []
  }
 ],
 "metadata": {
  "kernelspec": {
   "display_name": "base",
   "language": "python",
   "name": "python3"
  },
  "language_info": {
   "codemirror_mode": {
    "name": "ipython",
    "version": 3
   },
   "file_extension": ".py",
   "mimetype": "text/x-python",
   "name": "python",
   "nbconvert_exporter": "python",
   "pygments_lexer": "ipython3",
   "version": "3.12.7"
  }
 },
 "nbformat": 4,
 "nbformat_minor": 2
}
