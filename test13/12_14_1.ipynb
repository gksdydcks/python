{
 "cells": [
  {
   "cell_type": "code",
   "execution_count": 46,
   "metadata": {},
   "outputs": [],
   "source": [
    "import numpy as np\n",
    "rng= np.random.default_rng\n"
   ]
  },
  {
   "cell_type": "code",
   "execution_count": 63,
   "metadata": {},
   "outputs": [
    {
     "name": "stdout",
     "output_type": "stream",
     "text": [
      "#1. [0. 0. 0. 0. 0. 0. 0. 0. 0. 0.]\n",
      "#2. [0. 0. 0. 0. 1. 0. 0. 0. 0. 0.]\n",
      "#3. [10 11 12 13 14 15 16 17 18 19 20 21 22 23 24 25 26 27 28 29 30]\n",
      "#4. [[47 51]\n",
      " [75 95]]\n"
     ]
    }
   ],
   "source": [
    "#실습)1\n",
    "import numpy as np\n",
    "rng= np.random.default_rng\n",
    "a =np.zeros(10)\n",
    "print(f\"#1. {a}\")\n",
    "\n",
    "a[4] = 1\n",
    "print(f\"#2. {a}\")\n",
    "\n",
    "a2=np.arange(10,31)\n",
    "print(f\"#3. {a2}\")\n",
    "\n",
    "# a3=np.random.randint(0,100,(2,2))   \n",
    "rng = np.random.default_rng(1)\n",
    "a3 = rng.integers(0,100,(2,2))\n",
    "print(f\"#4. {a3}\")\n",
    "\n",
    "# a4=np.random.rand(2,4)\n",
    "# a4 = rng.random(2,4) \n",
    "# print(f\"#5. {a4}\")"
   ]
  }
 ],
 "metadata": {
  "kernelspec": {
   "display_name": "base",
   "language": "python",
   "name": "python3"
  },
  "language_info": {
   "codemirror_mode": {
    "name": "ipython",
    "version": 3
   },
   "file_extension": ".py",
   "mimetype": "text/x-python",
   "name": "python",
   "nbconvert_exporter": "python",
   "pygments_lexer": "ipython3",
   "version": "3.12.7"
  }
 },
 "nbformat": 4,
 "nbformat_minor": 2
}
