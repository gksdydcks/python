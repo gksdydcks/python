{
 "cells": [
  {
   "cell_type": "code",
   "execution_count": 5,
   "metadata": {},
   "outputs": [],
   "source": [
    "from selenium import webdriver\n",
    "from selenium.webdriver.chrome.options import Options\n",
    "from selenium.webdriver.common.by import By\n",
    "from selenium.webdriver.common.keys import Keys\n",
    "\n",
    "chrome_options = Options()\n",
    "chrome_options.add_experimental_option(\"detach\", True)\n",
    "\n",
    "import time"
   ]
  },
  {
   "cell_type": "code",
   "execution_count": 6,
   "metadata": {},
   "outputs": [
    {
     "ename": "NameError",
     "evalue": "name 'options' is not defined",
     "output_type": "error",
     "traceback": [
      "\u001b[1;31m---------------------------------------------------------------------------\u001b[0m",
      "\u001b[1;31mNameError\u001b[0m                                 Traceback (most recent call last)",
      "Cell \u001b[1;32mIn[6], line 1\u001b[0m\n\u001b[1;32m----> 1\u001b[0m driver \u001b[38;5;241m=\u001b[39m webdriver\u001b[38;5;241m.\u001b[39mChrome(options\u001b[38;5;241m=\u001b[39moptions)  \n\u001b[0;32m      2\u001b[0m driver\u001b[38;5;241m.\u001b[39mget(\u001b[38;5;124m\"\u001b[39m\u001b[38;5;124mhttps://shopping.naver.com/home\u001b[39m\u001b[38;5;124m\"\u001b[39m)\n\u001b[0;32m      3\u001b[0m time\u001b[38;5;241m.\u001b[39msleep(\u001b[38;5;241m2\u001b[39m)\n",
      "\u001b[1;31mNameError\u001b[0m: name 'options' is not defined"
     ]
    }
   ],
   "source": [
    "\n",
    "\n",
    "driver = webdriver.Chrome(options=options)  \n",
    "driver.get(\"https://shopping.naver.com/home\")\n",
    "time.sleep(2)\n",
    "\n",
    "search = driver.find_element(By.CSS_SELECTOR, '#gnb-gnb > div._gnb_header_area_nfFfz > div > div._gnbContent_gnb_content_JUwjU > div._gnbSearch_gnb_search_ULxKx > form > div > div > div > div > input')\n",
    "search.click()\n",
    "search.send_keys('사과')\n",
    "\n",
    "search_btn = driver.find_element(By.CSS_SELECTOR, '#gnb-gnb > div._gnb_header_area_nfFfz > div > div._gnbContent_gnb_content_JUwjU > div._gnbSearch_gnb_search_ULxKx > form > div > div > div > div > button._searchInput_button_search_wu9xq._nlog_click > svg')\n",
    "search_btn.click()\n",
    "time.sleep(2)\n",
    "\n",
    "current_height = driver.execute_script(\"return window.scrollY\")\n",
    "\n",
    "count = 0\n",
    "\n",
    "while True:\n",
    "    driver.find_element(By.CSS_SELECTOR, 'body').send_keys(Keys.END)\n",
    "    time.sleep(1)\n",
    "    \n",
    "    scrolled_height = driver.execute_script(\"return window.scrollY\")\n",
    "    \n",
    "    if (current_height == scrolled_height):\n",
    "        break\n",
    "    \n",
    "    if count > 1:\n",
    "        break\n",
    "    count+=1\n",
    "    \n",
    "    current_height = scrolled_height\n",
    "\n"
   ]
  },
  {
   "cell_type": "code",
   "execution_count": null,
   "metadata": {},
   "outputs": [],
   "source": [
    "import openpyxl\n",
    "# 엑셀 만들기\n",
    "wb = openpyxl.Workbook()\n",
    "\n",
    "# 워크시트 만들기\n",
    "ws = wb.active\n",
    "ws.title = '쇼핑'\n",
    "\n",
    "# 데이터 추가하기\n",
    "ws.append(['상품명', '판매가', 'url'])\n",
    "\n",
    "# 엑셀 저장하기\n",
    "filePath = 'shopping.xlsx'\n",
    "\n",
    "products = driver.find_elements(By.CSS_SELECTOR, '.basicProductCard_basic_product_card__TdrHT')\n",
    "\n",
    "for product in products:\n",
    "    # print(\"product\",product)\n",
    "    t = product.find_element(By.CSS_SELECTOR, '.basicProductCardInformation_title__Bc_Ng').text\n",
    "    print(t)\n",
    "    p = product.find_element(By.CSS_SELECTOR, '.priceTag_inner_price__TctbK').text.split()[0]    \n",
    "    print(p)\n",
    "    a = product.find_element(By.CSS_SELECTOR, '.basicProductCard_link__urzND')\n",
    "    # print(a)\n",
    "    l = a.get_attribute(\"href\")\n",
    "    print(l)\n",
    "    ws.append([t, p, l])\n",
    "\n",
    "wb.save(filePath)"
   ]
  }
 ],
 "metadata": {
  "kernelspec": {
   "display_name": "base",
   "language": "python",
   "name": "python3"
  },
  "language_info": {
   "codemirror_mode": {
    "name": "ipython",
    "version": 3
   },
   "file_extension": ".py",
   "mimetype": "text/x-python",
   "name": "python",
   "nbconvert_exporter": "python",
   "pygments_lexer": "ipython3",
   "version": "3.12.7"
  }
 },
 "nbformat": 4,
 "nbformat_minor": 2
}
