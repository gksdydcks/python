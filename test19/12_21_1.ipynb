{
 "cells": [
  {
   "cell_type": "code",
   "execution_count": 3,
   "metadata": {},
   "outputs": [
    {
     "name": "stdout",
     "output_type": "stream",
     "text": [
      "Collecting webdriver_manager\n",
      "  Downloading webdriver_manager-4.0.2-py2.py3-none-any.whl.metadata (12 kB)\n",
      "Requirement already satisfied: requests in c:\\users\\gksdydcks\\anaconda3\\lib\\site-packages (from webdriver_manager) (2.32.3)\n",
      "Requirement already satisfied: python-dotenv in c:\\users\\gksdydcks\\anaconda3\\lib\\site-packages (from webdriver_manager) (0.21.0)\n",
      "Requirement already satisfied: packaging in c:\\users\\gksdydcks\\anaconda3\\lib\\site-packages (from webdriver_manager) (24.1)\n",
      "Requirement already satisfied: charset-normalizer<4,>=2 in c:\\users\\gksdydcks\\anaconda3\\lib\\site-packages (from requests->webdriver_manager) (3.3.2)\n",
      "Requirement already satisfied: idna<4,>=2.5 in c:\\users\\gksdydcks\\anaconda3\\lib\\site-packages (from requests->webdriver_manager) (3.7)\n",
      "Requirement already satisfied: urllib3<3,>=1.21.1 in c:\\users\\gksdydcks\\anaconda3\\lib\\site-packages (from requests->webdriver_manager) (2.2.3)\n",
      "Requirement already satisfied: certifi>=2017.4.17 in c:\\users\\gksdydcks\\anaconda3\\lib\\site-packages (from requests->webdriver_manager) (2024.8.30)\n",
      "Downloading webdriver_manager-4.0.2-py2.py3-none-any.whl (27 kB)\n",
      "Installing collected packages: webdriver_manager\n",
      "Successfully installed webdriver_manager-4.0.2\n",
      "Note: you may need to restart the kernel to use updated packages.\n"
     ]
    }
   ],
   "source": [
    "            ##웹 자동화 매크로\n",
    "            ##selenium\n",
    "# %pip install selenium\n",
    "# %pip install webdriver_manager"
   ]
  },
  {
   "cell_type": "code",
   "execution_count": 22,
   "metadata": {},
   "outputs": [],
   "source": [
    "from selenium import webdriver\n",
    "from selenium.webdriver.chrome.options import Options\n",
    "from selenium.webdriver.common.by import By\n",
    "from selenium.webdriver.common.keys import Keys\n",
    "\n",
    "import time\n",
    "\n",
    "# options 객체를 만들지 않으면 실행시 브라우저 창이 꺼짐\n",
    "options = Options()\n",
    "# options.add_argument(\"--start-maximized\") #창크기 최대화\n",
    "options.add_experimental_option('detach', True)\n",
    "\n",
    "driver = webdriver.Chrome(options=options)  \n",
    "\n",
    "url = \"https://www.naver.com/\"\n",
    "driver.get(url)\n"
   ]
  },
  {
   "cell_type": "code",
   "execution_count": null,
   "metadata": {},
   "outputs": [],
   "source": [
    "## 창 열리고 3초 대기후에 검색어 입력됨\n",
    "time.sleep(3)\n",
    "\n",
    "## 검색어 입력 - id 선택자\n",
    "# query = driver.find_element(By.ID, \"query\")\n",
    "# query.send_keys(\"빅데이터\")\n",
    "driver.find_element(By.ID, \"query\").send_keys(\"빅데이터\")\n",
    "\n",
    "time.sleep(2)   # 검색어 입력후 2초 대기 후 클릭됨\n",
    "\n",
    "## 검색 버튼 클릭\n",
    "search_btn = driver.find_element(By.CSS_SELECTOR, \"#search-btn\")#(By.ID, \"search-btn\")\n",
    "search_btn.click()\n",
    "\n",
    "## 엔터 쳐서 검색\n",
    "# driver.find_element(By.ID, \"query\").send_keys(Keys.ENTER)\n",
    "# time.sleep(2)\n",
    "\n",
    "# 스크린 샷 \n",
    "# driver.save_screenshot(\"스팩.png\")\n",
    "\n",
    "# driver.quit()   #창 종료\n"
   ]
  },
  {
   "cell_type": "code",
   "execution_count": null,
   "metadata": {},
   "outputs": [],
   "source": []
  }
 ],
 "metadata": {
  "kernelspec": {
   "display_name": "base",
   "language": "python",
   "name": "python3"
  },
  "language_info": {
   "codemirror_mode": {
    "name": "ipython",
    "version": 3
   },
   "file_extension": ".py",
   "mimetype": "text/x-python",
   "name": "python",
   "nbconvert_exporter": "python",
   "pygments_lexer": "ipython3",
   "version": "3.12.7"
  }
 },
 "nbformat": 4,
 "nbformat_minor": 2
}
